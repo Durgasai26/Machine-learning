{
  "cells": [
    {
      "cell_type": "markdown",
      "metadata": {
        "id": "view-in-github",
        "colab_type": "text"
      },
      "source": [
        "<a href=\"https://colab.research.google.com/github/Durgasai26/Machine-learning/blob/main/INT423_project.ipynb\" target=\"_parent\"><img src=\"https://colab.research.google.com/assets/colab-badge.svg\" alt=\"Open In Colab\"/></a>"
      ]
    },
    {
      "cell_type": "markdown",
      "source": [],
      "metadata": {
        "id": "JeHEUM0RzQ8y"
      }
    },
    {
      "cell_type": "code",
      "source": [
        "import pandas as pd\n",
        "import numpy as np\n",
        "from sklearn.decomposition import TruncatedSVD\n",
        "from sklearn.neighbors import NearestNeighbors\n",
        "from scipy.sparse import coo_matrix, csr_matrix\n",
        "from sklearn.metrics.pairwise import cosine_similarity\n"
      ],
      "metadata": {
        "id": "LC6ze5fWtUf-"
      },
      "execution_count": null,
      "outputs": []
    },
    {
      "cell_type": "code",
      "source": [
        "\n",
        "events = pd.read_csv('/content/events.csv')\n",
        "category_tree = pd.read_csv('/content/category_tree.csv')\n",
        "item_properties_part1 = pd.read_csv('/content/item_properties_part1.csv')\n",
        "item_properties_part2 = pd.read_csv('/content/item_properties_part2.csv')\n",
        "\n",
        "print(events.head())\n",
        "print(category_tree.head())\n",
        "print(item_properties_part1.head())\n",
        "print(item_properties_part2.head())\n"
      ],
      "metadata": {
        "colab": {
          "base_uri": "https://localhost:8080/"
        },
        "id": "N6KYrtpatUiq",
        "outputId": "234364f9-ef66-4bb3-c2c4-10e6ceb4f9a4"
      },
      "execution_count": 3,
      "outputs": [
        {
          "output_type": "stream",
          "name": "stdout",
          "text": [
            "       timestamp  visitorid event    itemid  transactionid\n",
            "0  1433221332117     257597  view  355908.0            NaN\n",
            "1  1433224214164     992329  view  248676.0            NaN\n",
            "2  1433221999827     111016  view  318965.0            NaN\n",
            "3  1433221955914     483717  view  253185.0            NaN\n",
            "4  1433221337106     951259  view  367447.0            NaN\n",
            "   categoryid  parentid\n",
            "0        1016     213.0\n",
            "1         809     169.0\n",
            "2         570       9.0\n",
            "3        1691     885.0\n",
            "4         536    1691.0\n",
            "       timestamp  itemid    property                            value\n",
            "0  1435460400000  460429  categoryid                             1338\n",
            "1  1441508400000  206783         888          1116713 960601 n277.200\n",
            "2  1439089200000  395014         400  n552.000 639502 n720.000 424566\n",
            "3  1431226800000   59481         790                       n15360.000\n",
            "4  1431831600000  156781         917                           828513\n",
            "       timestamp  itemid property            value\n",
            "0  1433041200000  183478      561           769062\n",
            "1  1439694000000  132256      976  n26.400 1135780\n",
            "2  1435460400000  420307      921  1149317 1257525\n",
            "3  1431831600000  403324      917          1204143\n",
            "4  1435460400000  230701      521           769062\n"
          ]
        }
      ]
    },
    {
      "cell_type": "code",
      "source": [
        "events_sampled = events.sample(frac=0.01, random_state=42)\n",
        "print(f\"Sampled data shape: {events_sampled.shape}\")\n",
        "\n",
        "events_filtered = events_sampled[events_sampled['event'].isin(['view', 'purchase'])]\n",
        "\n",
        "interaction_counts = events_filtered.groupby(['visitorid', 'itemid']).size().reset_index(name='count')\n",
        "\n",
        "user_ids = interaction_counts['visitorid'].astype('category').cat.codes\n",
        "item_ids = interaction_counts['itemid'].astype('category').cat.codes\n",
        "counts = interaction_counts['count']\n"
      ],
      "metadata": {
        "colab": {
          "base_uri": "https://localhost:8080/"
        },
        "id": "krVxbZVttUlG",
        "outputId": "702e1979-cc55-4b23-c715-86673c6a8386"
      },
      "execution_count": 4,
      "outputs": [
        {
          "output_type": "stream",
          "name": "stdout",
          "text": [
            "Sampled data shape: (25760, 5)\n"
          ]
        }
      ]
    },
    {
      "cell_type": "code",
      "source": [
        "user_item_matrix_sparse = coo_matrix((counts, (user_ids, item_ids)))\n",
        "print(f\"Shape of the sparse user-item interaction matrix: {user_item_matrix_sparse.shape}\")\n"
      ],
      "metadata": {
        "colab": {
          "base_uri": "https://localhost:8080/"
        },
        "id": "EFLyn1grtUoh",
        "outputId": "39269e20-e46d-4472-b43b-cc3a99e90361"
      },
      "execution_count": 5,
      "outputs": [
        {
          "output_type": "stream",
          "name": "stdout",
          "text": [
            "Shape of the sparse user-item interaction matrix: (23316, 18329)\n"
          ]
        }
      ]
    },
    {
      "cell_type": "code",
      "source": [
        "svd = TruncatedSVD(n_components=10)\n",
        "user_item_matrix_svd = svd.fit_transform(user_item_matrix_sparse)\n",
        "\n",
        "predicted_ratings = np.dot(user_item_matrix_svd, svd.components_)\n",
        "print(f\"Shape of the predicted ratings matrix: {predicted_ratings.shape}\")\n"
      ],
      "metadata": {
        "colab": {
          "base_uri": "https://localhost:8080/"
        },
        "id": "5jar52KUyAX3",
        "outputId": "e6bc5650-fb34-4820-89d0-81759cde2a80"
      },
      "execution_count": 6,
      "outputs": [
        {
          "output_type": "stream",
          "name": "stdout",
          "text": [
            "Shape of the predicted ratings matrix: (23316, 18329)\n"
          ]
        }
      ]
    },
    {
      "cell_type": "code",
      "source": [
        "item_properties = pd.concat([item_properties_part1, item_properties_part2], ignore_index=True)\n",
        "\n",
        "grouped = item_properties.groupby(['itemid', 'property'])['value'].first().reset_index()\n",
        "\n",
        "itemid_codes = grouped['itemid'].astype('category').cat.codes\n",
        "property_codes = grouped['property'].astype('category').cat.codes\n",
        "\n",
        "values = pd.to_numeric(grouped['value'], errors='coerce').fillna(0)\n",
        "\n",
        "sparse_matrix = coo_matrix((values, (itemid_codes, property_codes)))\n",
        "\n",
        "sparse_matrix_csr = sparse_matrix.tocsr()\n",
        "print(f\"Shape of the sparse item feature matrix: {sparse_matrix_csr.shape}\")\n"
      ],
      "metadata": {
        "colab": {
          "base_uri": "https://localhost:8080/"
        },
        "id": "KhZO-ndZyAaa",
        "outputId": "ee4b8a48-138b-4c0d-bea9-cba4ded70ee5"
      },
      "execution_count": 7,
      "outputs": [
        {
          "output_type": "stream",
          "name": "stdout",
          "text": [
            "Shape of the sparse item feature matrix: (414826, 1079)\n"
          ]
        }
      ]
    },
    {
      "cell_type": "code",
      "source": [
        "item_similarity_matrix = cosine_similarity(sparse_matrix_csr.T)\n",
        "\n",
        "item_similarity_sparse = csr_matrix(item_similarity_matrix)\n",
        "\n",
        "print(\"Similarity of the first item with others:\")\n",
        "print(item_similarity_matrix[0])\n"
      ],
      "metadata": {
        "colab": {
          "base_uri": "https://localhost:8080/"
        },
        "id": "NUcEcc4fyAc2",
        "outputId": "149548a6-73c9-4bcf-dae9-b1c877d41eb7"
      },
      "execution_count": 8,
      "outputs": [
        {
          "output_type": "stream",
          "name": "stdout",
          "text": [
            "Similarity of the first item with others:\n",
            "[1.         0.         0.         ... 0.         0.0075008  0.03089526]\n"
          ]
        }
      ]
    },
    {
      "cell_type": "code",
      "source": [
        "def get_recommendations(user_id, n=10):\n",
        "    user_interactions = events_filtered[events_filtered['visitorid'] == user_id]\n",
        "\n",
        "    user_item_ids = user_interactions['itemid'].unique()\n",
        "\n",
        "    user_item_codes = pd.Categorical(user_item_ids).codes\n",
        "\n",
        "    user_similarity_scores = np.zeros(item_similarity_sparse.shape[0])\n",
        "\n",
        "    for item_code in user_item_codes:\n",
        "        user_similarity_scores += item_similarity_sparse[item_code].toarray().flatten()\n",
        "\n",
        "    recommended_item_indices = np.argsort(user_similarity_scores)[::-1][:n]\n",
        "\n",
        "    recommended_item_ids = pd.Categorical.from_codes(recommended_item_indices, categories=item_properties['itemid'].unique()).categories\n",
        "\n",
        "    return recommended_item_ids\n",
        "\n",
        "user_id = 257597\n",
        "recommendations = get_recommendations(user_id, n=10)\n",
        "print(f\"Top 10 recommended items for user {user_id}: {recommendations}\")\n"
      ],
      "metadata": {
        "colab": {
          "base_uri": "https://localhost:8080/"
        },
        "id": "3L-MxzlOyAfv",
        "outputId": "22ee5abb-755e-447e-f33e-aa0c2ca783bb"
      },
      "execution_count": 9,
      "outputs": [
        {
          "output_type": "stream",
          "name": "stdout",
          "text": [
            "Top 10 recommended items for user 257597: Index([460429, 206783, 395014,  59481, 156781, 285026,  89534, 264312, 229370,\n",
            "        98113,\n",
            "       ...\n",
            "       114033,  45965, 135880, 232427, 315727,  88405, 298244, 224712, 371645,\n",
            "       414806],\n",
            "      dtype='int64', length=414826)\n"
          ]
        }
      ]
    },
    {
      "cell_type": "code",
      "source": [
        "user_mapping = {user_id: idx for idx, user_id in enumerate(events_filtered['visitorid'].unique())}\n"
      ],
      "metadata": {
        "id": "fUkQqf6LyAis"
      },
      "execution_count": 10,
      "outputs": []
    },
    {
      "cell_type": "code",
      "source": [
        "import pandas as pd\n",
        "import numpy as np\n",
        "\n",
        "\n",
        "popular_items = events_filtered.groupby('itemid').size().sort_values(ascending=False).index[:100]\n",
        "\n",
        "def hybrid_recommendation(user_id, n=10, alpha=0.5):\n",
        "    if user_id not in user_mapping:\n",
        "        print(f\"User ID {user_id} not found in the predicted ratings matrix. Returning default recommendations.\")\n",
        "        return popular_items[:n]\n",
        "    user_index = user_mapping[user_id]\n",
        "    collaborative_scores = predicted_ratings[user_index]\n",
        "\n",
        "    item_similarity_scores = np.zeros_like(collaborative_scores)\n",
        "\n",
        "    user_interactions = events_filtered[events_filtered['visitorid'] == user_id]\n",
        "    user_item_ids = user_interactions['itemid'].unique()\n",
        "    user_item_codes = pd.Categorical(user_item_ids).codes\n",
        "\n",
        "    for item_code in user_item_codes:\n",
        "        item_similarity_scores += item_similarity_sparse[item_code].toarray().flatten()\n",
        "\n",
        "    hybrid_scores = alpha * collaborative_scores + (1 - alpha) * item_similarity_scores\n",
        "\n",
        "    recommended_item_indices = np.argsort(hybrid_scores)[::-1][:n]\n",
        "    recommended_item_ids = pd.Categorical.from_codes(recommended_item_indices, categories=item_properties['itemid'].unique()).categories\n",
        "\n",
        "    return recommended_item_ids\n",
        "\n",
        "user_id = 257597\n",
        "try:\n",
        "    recommendations_hybrid = hybrid_recommendation(user_id, n=10, alpha=0.5)\n",
        "    print(f\"Hybrid top 10 recommended items for user {user_id}: {recommendations_hybrid}\")\n",
        "except ValueError as e:\n",
        "    print(e)\n"
      ],
      "metadata": {
        "colab": {
          "base_uri": "https://localhost:8080/"
        },
        "id": "TwWMb0D3yAlK",
        "outputId": "569e7c33-ad03-4d72-a63b-d06d8e24f4bf"
      },
      "execution_count": 11,
      "outputs": [
        {
          "output_type": "stream",
          "name": "stdout",
          "text": [
            "User ID 257597 not found in the predicted ratings matrix. Returning default recommendations.\n",
            "Hybrid top 10 recommended items for user 257597: Index([187946.0, 461686.0, 370653.0, 384302.0, 219512.0,  96924.0,   7943.0,\n",
            "       111530.0, 400946.0, 335975.0],\n",
            "      dtype='float64', name='itemid')\n"
          ]
        }
      ]
    },
    {
      "cell_type": "code",
      "source": [
        "def post_process_recommendations(user_id, recommendations, events_filtered, n=10):\n",
        "    user_interactions = events_filtered[events_filtered['visitorid'] == user_id]\n",
        "    user_item_ids = user_interactions['itemid'].unique()\n",
        "\n",
        "    filtered_recommendations = [item for item in recommendations if item not in user_item_ids]\n",
        "\n",
        "    if len(filtered_recommendations) < n:\n",
        "        recent_interactions = user_interactions.sort_values(by='timestamp', ascending=False)\n",
        "        recent_items = recent_interactions['itemid'].head(n - len(filtered_recommendations))\n",
        "        filtered_recommendations.extend([item for item in recent_items if item not in filtered_recommendations])\n",
        "\n",
        "    filtered_recommendations = filtered_recommendations[:n]\n",
        "\n",
        "    return filtered_recommendations\n",
        "\n",
        "processed_recommendations = post_process_recommendations(user_id, recommendations_hybrid, events_filtered, n=10)\n",
        "print(f\"Processed top 10 recommendations for user {user_id}: {processed_recommendations}\")\n"
      ],
      "metadata": {
        "colab": {
          "base_uri": "https://localhost:8080/"
        },
        "id": "Yo_PAzz7yAny",
        "outputId": "58696953-c3e2-41b8-e4bc-02d61f72cf21"
      },
      "execution_count": 12,
      "outputs": [
        {
          "output_type": "stream",
          "name": "stdout",
          "text": [
            "Processed top 10 recommendations for user 257597: [187946.0, 461686.0, 370653.0, 384302.0, 219512.0, 96924.0, 7943.0, 111530.0, 400946.0, 335975.0]\n"
          ]
        }
      ]
    },
    {
      "cell_type": "code",
      "source": [
        "popular_items = events_filtered.groupby('itemid').size().sort_values(ascending=False).index[:100]\n"
      ],
      "metadata": {
        "id": "7EAj29MiyAqg"
      },
      "execution_count": 13,
      "outputs": []
    },
    {
      "cell_type": "code",
      "source": [
        "# User ID for which we want the recommendations\n",
        "user_id = 257597\n",
        "\n",
        "# Step 1: Generate Hybrid Recommendations\n",
        "try:\n",
        "    recommendations_hybrid = hybrid_recommendation(user_id, n=10, alpha=0.5)\n",
        "    print(f\"Hybrid top 10 recommended items for user {user_id}: {recommendations_hybrid}\")\n",
        "except ValueError as e:\n",
        "    print(e)\n",
        "\n",
        "# Step 2: Post-process to remove already interacted items (views or purchases)\n",
        "processed_recommendations = post_process_recommendations(user_id, recommendations_hybrid, events_filtered, n=10)\n",
        "print(f\"Processed top 10 recommendations for user {user_id}: {processed_recommendations}\")\n"
      ],
      "metadata": {
        "colab": {
          "base_uri": "https://localhost:8080/"
        },
        "id": "wkpVSgoKg2Wn",
        "outputId": "d3f53a6f-383b-45c5-968b-6a375bb1519e"
      },
      "execution_count": 14,
      "outputs": [
        {
          "output_type": "stream",
          "name": "stdout",
          "text": [
            "User ID 257597 not found in the predicted ratings matrix. Returning default recommendations.\n",
            "Hybrid top 10 recommended items for user 257597: Index([187946.0, 461686.0, 370653.0, 384302.0, 219512.0,  96924.0,   7943.0,\n",
            "       111530.0, 400946.0, 335975.0],\n",
            "      dtype='float64', name='itemid')\n",
            "Processed top 10 recommendations for user 257597: [187946.0, 461686.0, 370653.0, 384302.0, 219512.0, 96924.0, 7943.0, 111530.0, 400946.0, 335975.0]\n"
          ]
        }
      ]
    },
    {
      "cell_type": "code",
      "source": [],
      "metadata": {
        "id": "kaHErO1ig2Y_"
      },
      "execution_count": null,
      "outputs": []
    },
    {
      "cell_type": "code",
      "source": [],
      "metadata": {
        "id": "z3tEavvOg2bh"
      },
      "execution_count": null,
      "outputs": []
    },
    {
      "cell_type": "code",
      "source": [],
      "metadata": {
        "id": "-L_u3ihCg2fP"
      },
      "execution_count": null,
      "outputs": []
    },
    {
      "cell_type": "code",
      "source": [],
      "metadata": {
        "id": "rP4RP344dmOv"
      },
      "execution_count": null,
      "outputs": []
    },
    {
      "cell_type": "code",
      "source": [],
      "metadata": {
        "id": "wEYFCYTddmUL"
      },
      "execution_count": null,
      "outputs": []
    },
    {
      "cell_type": "code",
      "source": [],
      "metadata": {
        "id": "ct13R52pdmXC"
      },
      "execution_count": null,
      "outputs": []
    },
    {
      "cell_type": "code",
      "source": [],
      "metadata": {
        "id": "xkTJJjFadmZx"
      },
      "execution_count": null,
      "outputs": []
    },
    {
      "cell_type": "code",
      "source": [],
      "metadata": {
        "id": "4j3yjZ7edmcV"
      },
      "execution_count": null,
      "outputs": []
    },
    {
      "cell_type": "code",
      "source": [],
      "metadata": {
        "id": "NSxMKYEedmfe"
      },
      "execution_count": null,
      "outputs": []
    },
    {
      "cell_type": "code",
      "source": [],
      "metadata": {
        "id": "Ljm1jNqqdmhs"
      },
      "execution_count": null,
      "outputs": []
    },
    {
      "cell_type": "code",
      "source": [],
      "metadata": {
        "id": "mDASvrdrdmkX"
      },
      "execution_count": null,
      "outputs": []
    },
    {
      "cell_type": "code",
      "source": [],
      "metadata": {
        "id": "zxmGIXT7dmnL"
      },
      "execution_count": null,
      "outputs": []
    },
    {
      "cell_type": "code",
      "source": [],
      "metadata": {
        "id": "mV4VDOkpdmp8"
      },
      "execution_count": null,
      "outputs": []
    },
    {
      "cell_type": "code",
      "source": [],
      "metadata": {
        "id": "4c9DFwN-dmtg"
      },
      "execution_count": null,
      "outputs": []
    },
    {
      "cell_type": "code",
      "source": [],
      "metadata": {
        "id": "YE8fln7Dg2hf"
      },
      "execution_count": null,
      "outputs": []
    },
    {
      "cell_type": "code",
      "source": [],
      "metadata": {
        "id": "pLrc7cA1g2kC"
      },
      "execution_count": null,
      "outputs": []
    },
    {
      "cell_type": "code",
      "source": [],
      "metadata": {
        "id": "-Ux624wKg2mb"
      },
      "execution_count": null,
      "outputs": []
    },
    {
      "cell_type": "code",
      "source": [],
      "metadata": {
        "id": "lJADkl5Cg2qr"
      },
      "execution_count": null,
      "outputs": []
    },
    {
      "cell_type": "code",
      "source": [],
      "metadata": {
        "id": "0EN6kBKDfpjR"
      },
      "execution_count": null,
      "outputs": []
    },
    {
      "cell_type": "code",
      "source": [],
      "metadata": {
        "id": "557SthcMfqI5"
      },
      "execution_count": null,
      "outputs": []
    },
    {
      "cell_type": "code",
      "source": [],
      "metadata": {
        "id": "dP4exelsfqLp"
      },
      "execution_count": null,
      "outputs": []
    },
    {
      "cell_type": "code",
      "source": [
        "import pandas as pd\n",
        "import numpy as np\n",
        "from sklearn.decomposition import TruncatedSVD\n",
        "from sklearn.neighbors import NearestNeighbors\n",
        "from scipy.sparse import coo_matrix, csr_matrix\n",
        "from sklearn.metrics.pairwise import cosine_similarity\n",
        "\n",
        "\n",
        "\n",
        "events = pd.read_csv('/content/events.csv')\n",
        "category_tree = pd.read_csv('/content/category_tree.csv')\n",
        "item_properties_part1 = pd.read_csv('/content/item_properties_part1.csv')\n",
        "item_properties_part2 = pd.read_csv('/content/item_properties_part2.csv')\n",
        "\n",
        "print(events.head())\n",
        "print(category_tree.head())\n",
        "print(item_properties_part1.head())\n",
        "print(item_properties_part2.head())\n",
        "\n",
        "\n",
        "events_sampled = events.sample(frac=0.01, random_state=42)\n",
        "print(f\"Sampled data shape: {events_sampled.shape}\")\n",
        "\n",
        "events_filtered = events_sampled[events_sampled['event'].isin(['view', 'purchase'])]\n",
        "\n",
        "interaction_counts = events_filtered.groupby(['visitorid', 'itemid']).size().reset_index(name='count')\n",
        "\n",
        "user_ids = interaction_counts['visitorid'].astype('category').cat.codes\n",
        "item_ids = interaction_counts['itemid'].astype('category').cat.codes\n",
        "counts = interaction_counts['count']\n",
        "\n",
        "\n",
        "user_item_matrix_sparse = coo_matrix((counts, (user_ids, item_ids)))\n",
        "print(f\"Shape of the sparse user-item interaction matrix: {user_item_matrix_sparse.shape}\")\n",
        "\n",
        "\n",
        "svd = TruncatedSVD(n_components=10)\n",
        "user_item_matrix_svd = svd.fit_transform(user_item_matrix_sparse)\n",
        "\n",
        "predicted_ratings = np.dot(user_item_matrix_svd, svd.components_)\n",
        "print(f\"Shape of the predicted ratings matrix: {predicted_ratings.shape}\")\n",
        "\n",
        "\n",
        "item_properties = pd.concat([item_properties_part1, item_properties_part2], ignore_index=True)\n",
        "\n",
        "grouped = item_properties.groupby(['itemid', 'property'])['value'].first().reset_index()\n",
        "\n",
        "itemid_codes = grouped['itemid'].astype('category').cat.codes\n",
        "property_codes = grouped['property'].astype('category').cat.codes\n",
        "\n",
        "values = pd.to_numeric(grouped['value'], errors='coerce').fillna(0)\n",
        "\n",
        "sparse_matrix = coo_matrix((values, (itemid_codes, property_codes)))\n",
        "\n",
        "sparse_matrix_csr = sparse_matrix.tocsr()\n",
        "print(f\"Shape of the sparse item feature matrix: {sparse_matrix_csr.shape}\")\n",
        "\n",
        "\n",
        "item_similarity_matrix = cosine_similarity(sparse_matrix_csr.T)\n",
        "\n",
        "item_similarity_sparse = csr_matrix(item_similarity_matrix)\n",
        "\n",
        "print(\"Similarity of the first item with others:\")\n",
        "print(item_similarity_matrix[0])\n",
        "\n",
        "\n",
        "def get_recommendations(user_id, n=10):\n",
        "    user_interactions = events_filtered[events_filtered['visitorid'] == user_id]\n",
        "\n",
        "    user_item_ids = user_interactions['itemid'].unique()\n",
        "\n",
        "    user_item_codes = pd.Categorical(user_item_ids).codes\n",
        "\n",
        "    user_similarity_scores = np.zeros(item_similarity_sparse.shape[0])\n",
        "\n",
        "    for item_code in user_item_codes:\n",
        "        user_similarity_scores += item_similarity_sparse[item_code].toarray().flatten()\n",
        "\n",
        "    recommended_item_indices = np.argsort(user_similarity_scores)[::-1][:n]\n",
        "\n",
        "    recommended_item_ids = pd.Categorical.from_codes(recommended_item_indices, categories=item_properties['itemid'].unique()).categories\n",
        "\n",
        "    return recommended_item_ids\n",
        "\n",
        "user_id = 257597\n",
        "recommendations = get_recommendations(user_id, n=10)\n",
        "print(f\"Top 10 recommended items for user {user_id}: {recommendations}\")\n",
        "\n",
        "\n",
        "user_mapping = {user_id: idx for idx, user_id in enumerate(events_filtered['visitorid'].unique())}\n",
        "\n",
        "\n",
        "import pandas as pd\n",
        "import numpy as np\n",
        "\n",
        "\n",
        "popular_items = events_filtered.groupby('itemid').size().sort_values(ascending=False).index[:100]\n",
        "\n",
        "def hybrid_recommendation(user_id, n=10, alpha=0.5):\n",
        "    if user_id not in user_mapping:\n",
        "        print(f\"User ID {user_id} not found in the predicted ratings matrix. Returning default recommendations.\")\n",
        "        return popular_items[:n]\n",
        "    user_index = user_mapping[user_id]\n",
        "    collaborative_scores = predicted_ratings[user_index]\n",
        "\n",
        "    item_similarity_scores = np.zeros_like(collaborative_scores)\n",
        "\n",
        "    user_interactions = events_filtered[events_filtered['visitorid'] == user_id]\n",
        "    user_item_ids = user_interactions['itemid'].unique()\n",
        "    user_item_codes = pd.Categorical(user_item_ids).codes\n",
        "\n",
        "    for item_code in user_item_codes:\n",
        "        item_similarity_scores += item_similarity_sparse[item_code].toarray().flatten()\n",
        "\n",
        "    hybrid_scores = alpha * collaborative_scores + (1 - alpha) * item_similarity_scores\n",
        "\n",
        "    recommended_item_indices = np.argsort(hybrid_scores)[::-1][:n]\n",
        "    recommended_item_ids = pd.Categorical.from_codes(recommended_item_indices, categories=item_properties['itemid'].unique()).categories\n",
        "\n",
        "    return recommended_item_ids\n",
        "\n",
        "user_id = 257597\n",
        "try:\n",
        "    recommendations_hybrid = hybrid_recommendation(user_id, n=10, alpha=0.5)\n",
        "    print(f\"Hybrid top 10 recommended items for user {user_id}: {recommendations_hybrid}\")\n",
        "except ValueError as e:\n",
        "    print(e)\n",
        "\n",
        "\n",
        "def post_process_recommendations(user_id, recommendations, events_filtered, n=10):\n",
        "    user_interactions = events_filtered[events_filtered['visitorid'] == user_id]\n",
        "    user_item_ids = user_interactions['itemid'].unique()\n",
        "\n",
        "    filtered_recommendations = [item for item in recommendations if item not in user_item_ids]\n",
        "\n",
        "    if len(filtered_recommendations) < n:\n",
        "        recent_interactions = user_interactions.sort_values(by='timestamp', ascending=False)\n",
        "        recent_items = recent_interactions['itemid'].head(n - len(filtered_recommendations))\n",
        "        filtered_recommendations.extend([item for item in recent_items if item not in filtered_recommendations])\n",
        "\n",
        "    filtered_recommendations = filtered_recommendations[:n]\n",
        "\n",
        "    return filtered_recommendations\n",
        "\n",
        "processed_recommendations = post_process_recommendations(user_id, recommendations_hybrid, events_filtered, n=10)\n",
        "print(f\"Processed top 10 recommendations for user {user_id}: {processed_recommendations}\")\n",
        "\n",
        "\n",
        "popular_items = events_filtered.groupby('itemid').size().sort_values(ascending=False).index[:100]\n",
        "\n"
      ],
      "metadata": {
        "colab": {
          "base_uri": "https://localhost:8080/"
        },
        "id": "kUkNb9SifqOR",
        "outputId": "71e5fd91-02eb-46f1-b8ba-bd52124e4ed7"
      },
      "execution_count": null,
      "outputs": [
        {
          "output_type": "stream",
          "name": "stdout",
          "text": [
            "       timestamp  visitorid event    itemid  transactionid\n",
            "0  1433221332117     257597  view  355908.0            NaN\n",
            "1  1433224214164     992329  view  248676.0            NaN\n",
            "2  1433221999827     111016  view  318965.0            NaN\n",
            "3  1433221955914     483717  view  253185.0            NaN\n",
            "4  1433221337106     951259  view  367447.0            NaN\n",
            "   categoryid  parentid\n",
            "0        1016     213.0\n",
            "1         809     169.0\n",
            "2         570       9.0\n",
            "3        1691     885.0\n",
            "4         536    1691.0\n",
            "       timestamp  itemid    property                            value\n",
            "0  1435460400000  460429  categoryid                             1338\n",
            "1  1441508400000  206783         888          1116713 960601 n277.200\n",
            "2  1439089200000  395014         400  n552.000 639502 n720.000 424566\n",
            "3  1431226800000   59481         790                       n15360.000\n",
            "4  1431831600000  156781         917                           828513\n",
            "       timestamp  itemid property            value\n",
            "0  1433041200000  183478      561           769062\n",
            "1  1439694000000  132256      976  n26.400 1135780\n",
            "2  1435460400000  420307      921  1149317 1257525\n",
            "3  1431831600000  403324      917          1204143\n",
            "4  1435460400000  230701      521           769062\n",
            "Sampled data shape: (7360, 5)\n",
            "Shape of the sparse user-item interaction matrix: (6673, 6170)\n",
            "Shape of the predicted ratings matrix: (6673, 6170)\n",
            "Shape of the sparse item feature matrix: (372813, 1055)\n",
            "Similarity of the first item with others:\n",
            "[1.         0.         0.         ... 0.         0.00379248 0.02481343]\n",
            "Top 10 recommended items for user 257597: Index([460429, 206783, 395014,  59481, 156781, 285026,  89534, 264312, 229370,\n",
            "        98113,\n",
            "       ...\n",
            "       398207, 100609, 421679, 326100, 282261, 282094, 210729, 348853, 278373,\n",
            "       451265],\n",
            "      dtype='int64', length=372813)\n",
            "User ID 257597 not found in the predicted ratings matrix. Returning default recommendations.\n",
            "Hybrid top 10 recommended items for user 257597: Index([  5411.0, 309778.0, 257040.0, 370653.0, 461686.0, 303828.0, 187946.0,\n",
            "        93101.0, 298009.0,  29100.0],\n",
            "      dtype='float64', name='itemid')\n",
            "Processed top 10 recommendations for user 257597: [5411.0, 309778.0, 257040.0, 370653.0, 461686.0, 303828.0, 187946.0, 93101.0, 298009.0, 29100.0]\n"
          ]
        }
      ]
    }
  ],
  "metadata": {
    "colab": {
      "provenance": [],
      "authorship_tag": "ABX9TyN/Sy/x2Zr+Hs+xXR5177vb",
      "include_colab_link": true
    },
    "kernelspec": {
      "display_name": "Python 3",
      "name": "python3"
    },
    "language_info": {
      "name": "python"
    }
  },
  "nbformat": 4,
  "nbformat_minor": 0
}